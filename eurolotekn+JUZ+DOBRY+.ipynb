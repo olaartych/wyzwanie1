{
 "cells": [
  {
   "cell_type": "code",
   "execution_count": 46,
   "metadata": {
    "collapsed": false
   },
   "outputs": [
    {
     "name": "stdout",
     "output_type": "stream",
     "text": [
      "5 z 50: 2, 4, 25, 31, 44\n",
      "2 z 10: 3, 6\n"
     ]
    }
   ],
   "source": [
    "def eurolotek():\n",
    "    import random\n",
    "    lista = range(1,51)\n",
    "    lista2 = range(1,11)\n",
    "\n",
    "    los5p=sorted(random.sample(lista, 5))\n",
    "    los2p=sorted(random.sample(lista2, 2))\n",
    "    \n",
    "    print('5 z 50:', str(los5p).strip('[]'))\n",
    "    print('2 z 10:', str(los2p).strip('[]'))\n",
    "   \n",
    "eurolotek()"
   ]
  },
  {
   "cell_type": "code",
   "execution_count": null,
   "metadata": {
    "collapsed": true
   },
   "outputs": [],
   "source": []
  },
  {
   "cell_type": "code",
   "execution_count": null,
   "metadata": {
    "collapsed": true
   },
   "outputs": [],
   "source": []
  }
 ],
 "metadata": {
  "kernelspec": {
   "display_name": "Python 3",
   "language": "python",
   "name": "python3"
  },
  "language_info": {
   "codemirror_mode": {
    "name": "ipython",
    "version": 3
   },
   "file_extension": ".py",
   "mimetype": "text/x-python",
   "name": "python",
   "nbconvert_exporter": "python",
   "pygments_lexer": "ipython3",
   "version": "3.6.0"
  }
 },
 "nbformat": 4,
 "nbformat_minor": 2
}
